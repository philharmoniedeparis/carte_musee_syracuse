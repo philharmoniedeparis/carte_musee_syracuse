{
 "cells": [
  {
   "cell_type": "code",
   "execution_count": 30,
   "id": "33f05bb2-6fd1-464e-9da3-f2fcae7f0632",
   "metadata": {},
   "outputs": [],
   "source": [
    "import json\n",
    "import csv\n",
    "import gzip\n",
    "\n",
    "# Charger le fichier instruments_data (CSV)\n",
    "with open('data-carte2_2023-11-06.csv', newline='', encoding='utf-8') as csv_file:\n",
    "    csv_reader = csv.DictReader(csv_file, delimiter='\\t')\n",
    "    instruments_data = list(csv_reader)\n",
    "\n",
    "# Charger le fichier continent_infos (JSON)\n",
    "with open('config.json', 'r', encoding='utf-8') as json_file:\n",
    "    config = json.load(json_file)\n",
    "    continents_infos = config['continents_infos']\n",
    "\n",
    "# Charger le fichier data_countries (JSON)\n",
    "with open('countries_codes_and_coordinates.json', 'r', encoding='utf-8') as json_file:\n",
    "    data_countries = json.load(json_file)\n"
   ]
  },
  {
   "cell_type": "code",
   "execution_count": 31,
   "id": "ff5c06bc-cc27-4242-8171-4c1aae5fbb55",
   "metadata": {},
   "outputs": [],
   "source": [
    "def create_data_object(instruments_data, continent_infos, data_countries):\n",
    "    c_data = {\n",
    "        'pays': set(),\n",
    "        'continents': {},\n",
    "        'count_by_type': {},\n",
    "        'raw_data': instruments_data,\n",
    "        'convert_iso_name': {},\n",
    "    }\n",
    "\n",
    "    country_infos_map = {country[\"Alpha-2 code\"]: country for country in data_countries}\n",
    "\n",
    "    for item in instruments_data:\n",
    "        continent = item.get(\"Continent\", \"unknown\")\n",
    "        if continent not in c_data['continents']:\n",
    "            c_data['continents'][continent] = {\n",
    "                'count': 0,\n",
    "                'name_en': continent_infos[continent]['name_en'],\n",
    "                'name': continent,\n",
    "                'latlng': continent_infos[continent]['latlng'],\n",
    "                'zoom_level': continent_infos[continent]['zoom_level'],\n",
    "                'liste_pays': set(),\n",
    "                'notices': {},\n",
    "                'raw_data': [],\n",
    "            }\n",
    "\n",
    "        continent_data = c_data['continents'][continent]\n",
    "        continent_data['count'] += 1\n",
    "        continent_data['liste_pays'].add(item[\"Code ISO-2\"])\n",
    "        continent_data['raw_data'].append(item)\n",
    "\n",
    "        country_info = country_infos_map.get(item[\"Code ISO-2\"], None)\n",
    "        if item[\"Code ISO-2\"] not in continent_data['notices']:\n",
    "            continent_data['notices'][item[\"Code ISO-2\"]] = {\n",
    "                'count': 0,\n",
    "                'cities': {},\n",
    "                'latlng': [float(country_info[\"Latitude (average)\"]), float(country_info[\"Longitude (average)\"])] if country_info else None,\n",
    "                'name_fr': item[\"Pays\"],\n",
    "            }\n",
    "\n",
    "        country_data = continent_data['notices'][item[\"Code ISO-2\"]]\n",
    "        country_data['count'] += 1\n",
    "\n",
    "        if item['Ville'] not in country_data['cities']:\n",
    "            country_data['cities'][item['Ville']] = {\n",
    "                'count': 0,\n",
    "                'notices': [],\n",
    "            }\n",
    "\n",
    "        city_data = country_data['cities'][item['Ville']]\n",
    "        city_data['count'] += 1\n",
    "        city_data['notices'].append(item)\n",
    "\n",
    "        c_data['pays'].add(item[\"Code ISO-2\"])\n",
    "        c_data['convert_iso_name'][item[\"Code ISO-2\"]] = item[\"Pays\"]\n",
    "        c_data['count_by_type'][item[\"Type d'objet\"]] = c_data['count_by_type'].get(item[\"Type d'objet\"], 0) + 1\n",
    "\n",
    "    c_data['pays'] = list(c_data['pays'])\n",
    "    for continent in c_data['continents']:\n",
    "        c_data['continents'][continent]['liste_pays'] = list(c_data['continents'][continent]['liste_pays'])\n",
    "\n",
    "    return c_data\n",
    "    \n",
    "c_data = create_data_object(instruments_data, continents_infos, data_countries)"
   ]
  },
  {
   "cell_type": "code",
   "execution_count": 32,
   "id": "370a5f08-3df3-40f5-ab07-770fd3df8ad0",
   "metadata": {
    "scrolled": true
   },
   "outputs": [],
   "source": [
    "# Utiliser gzip pour compresser le fichier\n",
    "with gzip.open('sortedData.json.gz', 'wb') as fichier_gz:\n",
    "    c_data_en_json = json.dumps(c_data)\n",
    "    fichier_gz.write(c_data_en_json.encode('utf-8'))"
   ]
  },
  {
   "cell_type": "code",
   "execution_count": null,
   "id": "48026ccb-47ae-4f10-b7bf-2a232c54669e",
   "metadata": {},
   "outputs": [],
   "source": []
  },
  {
   "cell_type": "code",
   "execution_count": null,
   "id": "7db4ec4e-db3f-420f-95e8-833174078241",
   "metadata": {},
   "outputs": [],
   "source": []
  },
  {
   "cell_type": "code",
   "execution_count": null,
   "id": "67824c37-842d-4c6c-8f7a-f795675b782e",
   "metadata": {},
   "outputs": [],
   "source": []
  }
 ],
 "metadata": {
  "kernelspec": {
   "display_name": "Python 3 (ipykernel)",
   "language": "python",
   "name": "python3"
  },
  "language_info": {
   "codemirror_mode": {
    "name": "ipython",
    "version": 3
   },
   "file_extension": ".py",
   "mimetype": "text/x-python",
   "name": "python",
   "nbconvert_exporter": "python",
   "pygments_lexer": "ipython3",
   "version": "3.10.12"
  }
 },
 "nbformat": 4,
 "nbformat_minor": 5
}
